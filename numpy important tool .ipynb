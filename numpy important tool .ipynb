{
 "cells": [
  {
   "cell_type": "code",
   "execution_count": null,
   "id": "241b69e2-4023-4143-9fdf-8b8c3582f225",
   "metadata": {},
   "outputs": [],
   "source": [
    "# numpy basic operation \n",
    "#create an array\n",
    "#creating a 0-d aaray \n",
    "#number of elements\n",
    "#total memory token by as an array\n",
    "#single element size \n",
    "#for the data type of the array\n",
    "#for the specific element of the array\n",
    "#specific row of the array \n",
    "#start index:ending index, inclusive : exclusive \n",
    "#iterating in 1 dimension\n"
   ]
  },
  {
   "cell_type": "code",
   "execution_count": 1,
   "id": "3f962a56-a9ea-4346-91cb-65e6bbb17691",
   "metadata": {},
   "outputs": [],
   "source": [
    "import numpy as np"
   ]
  },
  {
   "cell_type": "code",
   "execution_count": 2,
   "id": "b90e0534-99f3-4b65-8164-14c9117d98f4",
   "metadata": {},
   "outputs": [
    {
     "data": {
      "text/plain": [
       "array([1, 2, 3, 4, 5])"
      ]
     },
     "execution_count": 2,
     "metadata": {},
     "output_type": "execute_result"
    }
   ],
   "source": [
    "#create an array\n",
    "arr = np.array([1,2,3,4,5])\n",
    "arr"
   ]
  },
  {
   "cell_type": "code",
   "execution_count": 5,
   "id": "13efe0a0-69e0-4767-b716-8e9b14b1cd3c",
   "metadata": {},
   "outputs": [
    {
     "name": "stdout",
     "output_type": "stream",
     "text": [
      "80\n"
     ]
    }
   ],
   "source": [
    "#creating a 0-d aaray \n",
    "arrzero = np.array(80)\n",
    "print(arrzero)"
   ]
  },
  {
   "cell_type": "code",
   "execution_count": 8,
   "id": "9a7c3c20-f8e6-40ba-96df-d55c6154cf2b",
   "metadata": {},
   "outputs": [
    {
     "data": {
      "text/plain": [
       "1"
      ]
     },
     "execution_count": 8,
     "metadata": {},
     "output_type": "execute_result"
    }
   ],
   "source": [
    "arr.ndim"
   ]
  },
  {
   "cell_type": "code",
   "execution_count": 18,
   "id": "3cb7f60e-1415-466b-b61e-94dd180fa058",
   "metadata": {},
   "outputs": [
    {
     "name": "stdout",
     "output_type": "stream",
     "text": [
      "[[1 2 3 4 5]\n",
      " [1 2 3 4 5]]\n",
      "2\n"
     ]
    }
   ],
   "source": [
    "arr2 = np.array([[1,2,3,4,5],[1,2,3,4,5]])\n",
    "print (arr2)\n",
    "print(arr2.ndim)"
   ]
  },
  {
   "cell_type": "code",
   "execution_count": 19,
   "id": "e2bb48fd-334d-4d7a-9976-d7fe49d24630",
   "metadata": {},
   "outputs": [
    {
     "data": {
      "text/plain": [
       "10"
      ]
     },
     "execution_count": 19,
     "metadata": {},
     "output_type": "execute_result"
    }
   ],
   "source": [
    "#number of elements\n",
    "arr2.size"
   ]
  },
  {
   "cell_type": "code",
   "execution_count": 20,
   "id": "787789d5-bb98-4d4a-800a-bddeff37b616",
   "metadata": {},
   "outputs": [
    {
     "data": {
      "text/plain": [
       "80"
      ]
     },
     "execution_count": 20,
     "metadata": {},
     "output_type": "execute_result"
    }
   ],
   "source": [
    "#total memory token by as an array\n",
    "arr2.nbytes"
   ]
  },
  {
   "cell_type": "code",
   "execution_count": 21,
   "id": "4471c17d-1866-4be3-9d03-c6238d3aee34",
   "metadata": {},
   "outputs": [
    {
     "data": {
      "text/plain": [
       "8"
      ]
     },
     "execution_count": 21,
     "metadata": {},
     "output_type": "execute_result"
    }
   ],
   "source": [
    "arrzero.nbytes"
   ]
  },
  {
   "cell_type": "code",
   "execution_count": 23,
   "id": "1610d99d-2df5-45b2-8268-25bc94719d91",
   "metadata": {},
   "outputs": [
    {
     "data": {
      "text/plain": [
       "8"
      ]
     },
     "execution_count": 23,
     "metadata": {},
     "output_type": "execute_result"
    }
   ],
   "source": [
    "#single element size \n",
    "arr2.itemsize"
   ]
  },
  {
   "cell_type": "code",
   "execution_count": 25,
   "id": "22c7a7e2-ac33-43b1-8bfe-4f45af413d55",
   "metadata": {},
   "outputs": [
    {
     "data": {
      "text/plain": [
       "dtype('int64')"
      ]
     },
     "execution_count": 25,
     "metadata": {},
     "output_type": "execute_result"
    }
   ],
   "source": [
    "#for the data type of the array\n",
    "arr2.dtype"
   ]
  },
  {
   "cell_type": "code",
   "execution_count": 26,
   "id": "6c891744-aa41-4818-ae3b-a499f196b05d",
   "metadata": {},
   "outputs": [
    {
     "name": "stdout",
     "output_type": "stream",
     "text": [
      "[[1 2 3 4 5]\n",
      " [1 2 3 4 5]]\n"
     ]
    }
   ],
   "source": [
    "print(arr2)"
   ]
  },
  {
   "cell_type": "code",
   "execution_count": 28,
   "id": "664da654-8043-46a4-a5ad-63c5bbe08fde",
   "metadata": {},
   "outputs": [
    {
     "data": {
      "text/plain": [
       "np.int64(3)"
      ]
     },
     "execution_count": 28,
     "metadata": {},
     "output_type": "execute_result"
    }
   ],
   "source": [
    "#for the specific element of the array()\n",
    "arr2[0,2]"
   ]
  },
  {
   "cell_type": "code",
   "execution_count": 29,
   "id": "b71f3842-715c-4fc9-9c0c-197905adf3a1",
   "metadata": {},
   "outputs": [
    {
     "data": {
      "text/plain": [
       "array([1, 2, 3, 4, 5])"
      ]
     },
     "execution_count": 29,
     "metadata": {},
     "output_type": "execute_result"
    }
   ],
   "source": [
    "#specific row of the array \n",
    "arr2[0,:]"
   ]
  },
  {
   "cell_type": "code",
   "execution_count": 31,
   "id": "c2571b04-a2a6-477d-af0c-bddbbf749a6f",
   "metadata": {},
   "outputs": [
    {
     "name": "stdout",
     "output_type": "stream",
     "text": [
      "[ 1  2  3  4  5  6  7  8  9 10]\n"
     ]
    }
   ],
   "source": [
    "arr3 = np.array([1,2,3,4,5,6,7,8,9,10])\n",
    "print (arr3)"
   ]
  },
  {
   "cell_type": "code",
   "execution_count": 32,
   "id": "96e73933-4573-44ae-884a-862fffbc5025",
   "metadata": {},
   "outputs": [
    {
     "data": {
      "text/plain": [
       "array([2, 3, 4, 5])"
      ]
     },
     "execution_count": 32,
     "metadata": {},
     "output_type": "execute_result"
    }
   ],
   "source": [
    "#start index:ending index, inclusive : exclusive \n",
    "arr3[1:5]"
   ]
  },
  {
   "cell_type": "code",
   "execution_count": 33,
   "id": "674ed671-73b8-4c2f-8d79-f6fc3250b319",
   "metadata": {},
   "outputs": [
    {
     "data": {
      "text/plain": [
       "array([ 6,  7,  8,  9, 10])"
      ]
     },
     "execution_count": 33,
     "metadata": {},
     "output_type": "execute_result"
    }
   ],
   "source": [
    "arr3[5:]"
   ]
  },
  {
   "cell_type": "code",
   "execution_count": 35,
   "id": "095601c8-1726-421a-bdf2-4162d10975fe",
   "metadata": {},
   "outputs": [
    {
     "name": "stdout",
     "output_type": "stream",
     "text": [
      "[1 2 3 4 5]\n"
     ]
    }
   ],
   "source": [
    "print(arr3[:5])"
   ]
  },
  {
   "cell_type": "code",
   "execution_count": 36,
   "id": "8bee1d44-f422-4110-ab5a-83a14a8e3da0",
   "metadata": {},
   "outputs": [
    {
     "name": "stdout",
     "output_type": "stream",
     "text": [
      "[[1 2 3 4 5]\n",
      " [1 2 3 4 5]]\n"
     ]
    }
   ],
   "source": [
    "print(arr2)"
   ]
  },
  {
   "cell_type": "code",
   "execution_count": 37,
   "id": "ed1d0b2c-b355-4e4d-9728-90a8b21cbb62",
   "metadata": {},
   "outputs": [
    {
     "name": "stdout",
     "output_type": "stream",
     "text": [
      "[2 3 4]\n"
     ]
    }
   ],
   "source": [
    "print(arr2[1,1:4])"
   ]
  },
  {
   "cell_type": "code",
   "execution_count": 40,
   "id": "77744c13-87ff-49da-99c3-4103339239cb",
   "metadata": {},
   "outputs": [
    {
     "name": "stdout",
     "output_type": "stream",
     "text": [
      "[[1 2 3 4 5]\n",
      " [1 2 3 4 5]]\n"
     ]
    }
   ],
   "source": [
    "#copying of array \n",
    "arr4 = arr2.copy()\n",
    "print(arr4)"
   ]
  },
  {
   "cell_type": "code",
   "execution_count": 41,
   "id": "697bc778-0170-4734-8280-4076c86afc9c",
   "metadata": {},
   "outputs": [
    {
     "data": {
      "text/plain": [
       "array([[0., 0., 0., 0., 0., 0.],\n",
       "       [0., 0., 0., 0., 0., 0.],\n",
       "       [0., 0., 0., 0., 0., 0.],\n",
       "       [0., 0., 0., 0., 0., 0.]])"
      ]
     },
     "execution_count": 41,
     "metadata": {},
     "output_type": "execute_result"
    }
   ],
   "source": [
    "#Zero matrix\n",
    "np.zeros((4,6))"
   ]
  },
  {
   "cell_type": "code",
   "execution_count": 42,
   "id": "628ab5d6-cefe-4aff-ac35-3b5d83dc312b",
   "metadata": {},
   "outputs": [
    {
     "data": {
      "text/plain": [
       "array([[[1., 1., 1.],\n",
       "        [1., 1., 1.],\n",
       "        [1., 1., 1.]],\n",
       "\n",
       "       [[1., 1., 1.],\n",
       "        [1., 1., 1.],\n",
       "        [1., 1., 1.]],\n",
       "\n",
       "       [[1., 1., 1.],\n",
       "        [1., 1., 1.],\n",
       "        [1., 1., 1.]],\n",
       "\n",
       "       [[1., 1., 1.],\n",
       "        [1., 1., 1.],\n",
       "        [1., 1., 1.]],\n",
       "\n",
       "       [[1., 1., 1.],\n",
       "        [1., 1., 1.],\n",
       "        [1., 1., 1.]],\n",
       "\n",
       "       [[1., 1., 1.],\n",
       "        [1., 1., 1.],\n",
       "        [1., 1., 1.]]])"
      ]
     },
     "execution_count": 42,
     "metadata": {},
     "output_type": "execute_result"
    }
   ],
   "source": [
    "#All 1 matrix\n",
    "np.ones((6,3,3))"
   ]
  },
  {
   "cell_type": "code",
   "execution_count": 43,
   "id": "8475c0ae-3a93-4803-b2ab-8e59318d470d",
   "metadata": {},
   "outputs": [
    {
     "data": {
      "text/plain": [
       "array([[678, 678, 678, ..., 678, 678, 678],\n",
       "       [678, 678, 678, ..., 678, 678, 678],\n",
       "       [678, 678, 678, ..., 678, 678, 678],\n",
       "       ...,\n",
       "       [678, 678, 678, ..., 678, 678, 678],\n",
       "       [678, 678, 678, ..., 678, 678, 678],\n",
       "       [678, 678, 678, ..., 678, 678, 678]], shape=(40, 40))"
      ]
     },
     "execution_count": 43,
     "metadata": {},
     "output_type": "execute_result"
    }
   ],
   "source": [
    "#other matrix\n",
    "np.full((40,40),678)"
   ]
  },
  {
   "cell_type": "code",
   "execution_count": 44,
   "id": "31b5f46e-d196-4f2f-b6a5-6c87b1430fdf",
   "metadata": {},
   "outputs": [],
   "source": [
    "#importing random\n",
    "from numpy import random "
   ]
  },
  {
   "cell_type": "code",
   "execution_count": 46,
   "id": "aa195aa9-51fe-416f-8e93-7b75d4e86bea",
   "metadata": {},
   "outputs": [
    {
     "name": "stdout",
     "output_type": "stream",
     "text": [
      "52\n"
     ]
    }
   ],
   "source": [
    "x = random.randint(100)\n",
    "print(x)"
   ]
  },
  {
   "cell_type": "code",
   "execution_count": 48,
   "id": "30e4cfe4-a4c6-4526-ab15-e0f71b4da018",
   "metadata": {},
   "outputs": [
    {
     "data": {
      "text/plain": [
       "array([[1., 0., 0., 0., 0.],\n",
       "       [0., 1., 0., 0., 0.],\n",
       "       [0., 0., 1., 0., 0.],\n",
       "       [0., 0., 0., 1., 0.],\n",
       "       [0., 0., 0., 0., 1.]])"
      ]
     },
     "execution_count": 48,
     "metadata": {},
     "output_type": "execute_result"
    }
   ],
   "source": [
    "#identity matrix \n",
    "np.identity(5)"
   ]
  },
  {
   "cell_type": "code",
   "execution_count": 49,
   "id": "aca6fcf7-051b-4c70-8b04-483578ba58c8",
   "metadata": {},
   "outputs": [
    {
     "name": "stdout",
     "output_type": "stream",
     "text": [
      "[10 20 30 40 50]\n"
     ]
    }
   ],
   "source": [
    "#mathematical operation in array\n",
    "arrm = np.array([10,20,30,40,50])\n",
    "print (arrm)\n"
   ]
  },
  {
   "cell_type": "code",
   "execution_count": 50,
   "id": "e886b002-78e8-4e25-92b2-6ff806c8221d",
   "metadata": {},
   "outputs": [
    {
     "data": {
      "text/plain": [
       "array([25, 35, 45, 55, 65])"
      ]
     },
     "execution_count": 50,
     "metadata": {},
     "output_type": "execute_result"
    }
   ],
   "source": [
    "#plus operation\n",
    "arrm+15"
   ]
  },
  {
   "cell_type": "code",
   "execution_count": 51,
   "id": "4a7a6a34-84c0-4899-9527-42f48c7c8275",
   "metadata": {},
   "outputs": [
    {
     "data": {
      "text/plain": [
       "array([10, 20, 30, 40, 50])"
      ]
     },
     "execution_count": 51,
     "metadata": {},
     "output_type": "execute_result"
    }
   ],
   "source": [
    "arrm"
   ]
  },
  {
   "cell_type": "code",
   "execution_count": 56,
   "id": "df4f6d15-3eac-441e-bfcc-9187038960a8",
   "metadata": {},
   "outputs": [
    {
     "name": "stdout",
     "output_type": "stream",
     "text": [
      "[10 20 30 40 50]\n"
     ]
    }
   ],
   "source": [
    "#subtraction operation\n",
    "arm = arrm - 40\n",
    "print(arrm)\n"
   ]
  },
  {
   "cell_type": "code",
   "execution_count": 57,
   "id": "c4c741e2-e54a-4789-9372-c12f2f72df54",
   "metadata": {},
   "outputs": [
    {
     "data": {
      "text/plain": [
       "array([110, 120, 130, 140, 150])"
      ]
     },
     "execution_count": 57,
     "metadata": {},
     "output_type": "execute_result"
    }
   ],
   "source": [
    "arrz = arrm+100\n",
    "arrz"
   ]
  },
  {
   "cell_type": "code",
   "execution_count": 58,
   "id": "d59a2cea-2c21-420c-8f7b-d9f3cf713f59",
   "metadata": {},
   "outputs": [
    {
     "name": "stdout",
     "output_type": "stream",
     "text": [
      "[10 20 30 40 50]\n"
     ]
    }
   ],
   "source": [
    "#multiplication\n",
    "arrm*10\n",
    "print(arrm)"
   ]
  },
  {
   "cell_type": "code",
   "execution_count": 59,
   "id": "a9b22471-0b73-4de0-bc8b-20530de20b56",
   "metadata": {},
   "outputs": [
    {
     "data": {
      "text/plain": [
       "array([-4.28571429, -2.85714286, -1.42857143,  0.        ,  1.42857143])"
      ]
     },
     "execution_count": 59,
     "metadata": {},
     "output_type": "execute_result"
    }
   ],
   "source": [
    "#division operation \n",
    "arm/7"
   ]
  },
  {
   "cell_type": "code",
   "execution_count": 60,
   "id": "291dd51a-3a92-41c3-8191-47e94889705d",
   "metadata": {},
   "outputs": [
    {
     "name": "stdout",
     "output_type": "stream",
     "text": [
      "[11 17 23 29 35]\n"
     ]
    }
   ],
   "source": [
    "a1 = np.array([1,2,3,4,5])\n",
    "a2 = np.array([10,15,20,25,30])\n",
    "print(a1+a2)"
   ]
  },
  {
   "cell_type": "code",
   "execution_count": 61,
   "id": "1fc3d538-1380-4abb-9aa5-159b7c490bc0",
   "metadata": {},
   "outputs": [
    {
     "data": {
      "text/plain": [
       "array([ 0.54030231, -0.41614684, -0.9899925 , -0.65364362,  0.28366219])"
      ]
     },
     "execution_count": 61,
     "metadata": {},
     "output_type": "execute_result"
    }
   ],
   "source": [
    "#cos funtion in an array \n",
    "np.cos(a1)"
   ]
  },
  {
   "cell_type": "code",
   "execution_count": 62,
   "id": "fd9301d3-f658-4177-9a1e-ffb739f23ff4",
   "metadata": {},
   "outputs": [
    {
     "name": "stdout",
     "output_type": "stream",
     "text": [
      "[[1 2 3 4 5]\n",
      " [1 2 3 4 5]]\n"
     ]
    }
   ],
   "source": [
    "print(arr2)"
   ]
  },
  {
   "cell_type": "code",
   "execution_count": 64,
   "id": "89adfdcc-3c07-48e3-93cc-037391898314",
   "metadata": {},
   "outputs": [
    {
     "data": {
      "text/plain": [
       "np.int64(1)"
      ]
     },
     "execution_count": 64,
     "metadata": {},
     "output_type": "execute_result"
    }
   ],
   "source": [
    "#minimum value for the array \n",
    "np.min(arr2)\n"
   ]
  },
  {
   "cell_type": "code",
   "execution_count": 65,
   "id": "dcde0427-8aaf-458d-b561-225d874a82b2",
   "metadata": {},
   "outputs": [
    {
     "data": {
      "text/plain": [
       "np.int64(5)"
      ]
     },
     "execution_count": 65,
     "metadata": {},
     "output_type": "execute_result"
    }
   ],
   "source": [
    "#mamimum value from the array \n",
    "np.max(arr2)"
   ]
  },
  {
   "cell_type": "code",
   "execution_count": 67,
   "id": "6be8a9c0-dbad-40d9-9d2e-b0256708e663",
   "metadata": {},
   "outputs": [
    {
     "name": "stdout",
     "output_type": "stream",
     "text": [
      "[[1 2 3 4 5]\n",
      " [1 2 3 4 5]]\n"
     ]
    }
   ],
   "source": [
    "np.sum(arr2)\n",
    "print(arr2)"
   ]
  },
  {
   "cell_type": "code",
   "execution_count": 68,
   "id": "267a92c5-48a0-45c6-9617-a02f3e7bdafe",
   "metadata": {},
   "outputs": [
    {
     "name": "stdout",
     "output_type": "stream",
     "text": [
      "1\n",
      "2\n",
      "3\n",
      "4\n",
      "5\n"
     ]
    }
   ],
   "source": [
    "#iterating in 1 dimension\n",
    "for x in a1:\n",
    "    print(x)"
   ]
  },
  {
   "cell_type": "code",
   "execution_count": 69,
   "id": "6fee2fbd-a833-4f4e-a62e-d408b919c088",
   "metadata": {},
   "outputs": [
    {
     "name": "stdout",
     "output_type": "stream",
     "text": [
      "1\n",
      "2\n",
      "3\n",
      "4\n",
      "5\n",
      "1\n",
      "2\n",
      "3\n",
      "4\n",
      "5\n"
     ]
    }
   ],
   "source": [
    "#iterating\n",
    "for a in arr2:\n",
    "    for b in a:\n",
    "        print(b)"
   ]
  },
  {
   "cell_type": "code",
   "execution_count": null,
   "id": "df8ffd2c-e14e-4a44-bf7c-80abfc253c57",
   "metadata": {},
   "outputs": [],
   "source": []
  }
 ],
 "metadata": {
  "kernelspec": {
   "display_name": "Python 3 (ipykernel)",
   "language": "python",
   "name": "python3"
  },
  "language_info": {
   "codemirror_mode": {
    "name": "ipython",
    "version": 3
   },
   "file_extension": ".py",
   "mimetype": "text/x-python",
   "name": "python",
   "nbconvert_exporter": "python",
   "pygments_lexer": "ipython3",
   "version": "3.12.3"
  }
 },
 "nbformat": 4,
 "nbformat_minor": 5
}
